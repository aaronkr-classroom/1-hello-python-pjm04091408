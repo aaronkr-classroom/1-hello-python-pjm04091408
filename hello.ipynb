{
 "cells": [
  {
   "cell_type": "markdown",
   "id": "34b0a60f",
   "metadata": {},
   "source": [
    "# hello world~~~~\n",
    "\n",
    "## this is Aaron.\n",
    "\n",
    "###### ML is fun~!~!~!\n",
    "\n",
    "This is a paragraph."
   ]
  },
  {
   "cell_type": "markdown",
   "id": "730d56e4",
   "metadata": {},
   "source": []
  }
 ],
 "metadata": {
  "language_info": {
   "name": "python"
  }
 },
 "nbformat": 4,
 "nbformat_minor": 5
}
